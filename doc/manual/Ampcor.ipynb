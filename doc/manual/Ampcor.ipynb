{
 "cells": [
  {
   "cell_type": "markdown",
   "metadata": {
    "slideshow": {
     "slide_type": "slide"
    }
   },
   "source": [
    "<img src=\"Figs/Banner.png\" width=\"100%\" />\n",
    "<font face=\"Calibri\">\n",
    "<br>\n",
    "<font size=\"7\"> <b> Offset Estimation <b> </font>\n",
    "\n",
    "<font size=\"5\"> <b> The *ampcor* program<font color='rgba(200,0,0,0.2)'> </font> </b> </font>\n",
    "\n",
    "<br> <img src=\"Figs/NASALogo.png\" width=\"250\" align=\"right\" /> <br> \n",
    "<font size=\"4\"> <b> Paul A Rosen</b> \n",
    "<font size=\"3\">  <br>\n",
    "<font> <b>Date: </b> July 10, 2020 </font>\n",
    "</font>\n"
   ]
  },
  {
   "cell_type": "code",
   "execution_count": 25,
   "metadata": {
    "hideCode": true,
    "hideOutput": true,
    "hidePrompt": true,
    "slideshow": {
     "slide_type": "-"
    }
   },
   "outputs": [],
   "source": [
    "import warnings\n",
    "warnings.filterwarnings('ignore')\n",
    "\n",
    "bShowInline = True  # Set = False for document generation\n",
    "%matplotlib inline\n",
    "import matplotlib.pyplot as plt\n",
    "\n",
    "params = {'legend.fontsize': 'x-large',\n",
    "          'figure.figsize': (15, 5),\n",
    "         'axes.labelsize': 'x-large',\n",
    "         'axes.titlesize':'x-large',\n",
    "         'xtick.labelsize':'x-large',\n",
    "         'ytick.labelsize':'x-large'}\n",
    "plt.rcParams.update(params)\n",
    "\n",
    "def makeplot( plt, figlabel, figcaption):\n",
    "    figname = figlabel+'.png'\n",
    "\n",
    "    plt.savefig(figname)\n",
    "\n",
    "    if bShowInline:\n",
    "        plt.show()\n",
    "    else:\n",
    "        plt.close()\n",
    "\n",
    "    strLatex=\"\"\"\n",
    "    \\\\begin{figure}[b]\n",
    "    \\centering\n",
    "        \\includegraphics[totalheight=10.0cm]{%s}\n",
    "        \\caption{%s}\n",
    "        \\label{fig:%s}\n",
    "    \\end{figure}\"\"\"%(figname, figcaption, figlabel) \n",
    "    return display(Latex(strLatex)) \n",
    "\n",
    "def sinc_interp(x, s, u):\n",
    "    # x is the vector to be interpolated\n",
    "    # s is a vector of sample points of x\n",
    "    # u is a vector of the output sample points for the interpolation\n",
    "    \n",
    "    if len(x) != len(s):\n",
    "        raise ValueError('x and s must be the same length')\n",
    "    \n",
    "    # Find the period    \n",
    "    T = s[1] - s[0]\n",
    "    \n",
    "    sincM = np.tile(u, (len(s), 1)) - np.tile(s[:, np.newaxis], (1, len(u)))\n",
    "    y = np.dot(x, np.sinc(sincM/T))\n",
    "    return y"
   ]
  },
  {
   "cell_type": "markdown",
   "metadata": {
    "hideCode": false,
    "hidePrompt": true,
    "slideshow": {
     "slide_type": "-"
    }
   },
   "source": [
    "# Overview"
   ]
  },
  {
   "cell_type": "markdown",
   "metadata": {
    "hideCode": false,
    "hidePrompt": true,
    "slideshow": {
     "slide_type": "-"
    }
   },
   "source": [
    "In this notebook, we will describe the essential algorithms in the *ampcor* program, which is used to estimate the misregistration between two images. The basic methodology uses image chip cross-correlation in the image spatial domain.  A reference image chip with a particular dimension is defined in the first image, as well as a search image chip in a second image. The search image is larger than the reference image so it can be translated in two dimensions for cross-correlation.  This is done once at nominal image sampling to establish a coarse offset.  Once the coarse offset is found, the images are oversampled by a factor of 2 and the cross-correlation is recomputed.   The correlation surface is stored, and oversampled by a factor of 32, then the peak location is estimated by curve-fitting.  The peak location is then recorded as the offset.  Much of the program is book-keeping and oversampling.  The basic functionality is just two-dimensional cross correlation.\n",
    "\n",
    "In this notebook, we go through the ampcor program step by step, and emulate the operations with computational python and with illustrations to ensure the algorithm and methods are clear.\n",
    "\n",
    "1.0 [Setup](#section-1)<br>\n",
    "> 1.1 [Sinc interpolator](#section-1.1) <br>\n",
    "> 1.2 [Input data types](#section-1.2) <br>\n",
    "> 1.3 [Bounds Checking on Input](#section-1.3) <br>\n",
    "> 1.4 [The Ampcor Workflow](#section-1.4) <br>\n"
   ]
  },
  {
   "cell_type": "markdown",
   "metadata": {
    "hidePrompt": true,
    "slideshow": {
     "slide_type": "-"
    }
   },
   "source": [
    "2.0 [Read in the data](#section-2)  <br>\n",
    "> 2.1 [Complex Images](#section-2.1) <br>\n",
    "> 2.2 [Real Images](#section-2.2) <br>\n",
    "> 2.3 [Mag Images](#section-2.3) <br>\n",
    "\n",
    "3.0 [Focusing SAR data - Range](#section-3) <br>\n",
    "> 3.1 [Correlation to achieve fine range resolution - time domain](#section-3.1) <br>\n",
    "> 3.2 [Correlation to achieve fine range resolution - frequency domain](#section-3.2) \n",
    "\n",
    "4.0 [Focusing SAR data - Azimuth](#section-4)  <br>\n",
    "> 4.1 [Azimuth reference function](#section-4.2)  <br>\n",
    "> 4.2 [Correlation to achieve fine azimuth resolution - time domain](#section-4.2) <br>\n",
    "> 4.3 [Correlation to achieve fine azimuth resolution - frequency domain](#section-4.3) <br>\n",
    "> 4.4 [Backprojection](#section-4.4)"
   ]
  },
  {
   "cell_type": "markdown",
   "metadata": {
    "hidePrompt": true,
    "slideshow": {
     "slide_type": "-"
    }
   },
   "source": [
    "<a id=\"section-1\"></a>\n",
    "## 1.0 Setup"
   ]
  },
  {
   "cell_type": "markdown",
   "metadata": {
    "hidePrompt": true,
    "slideshow": {
     "slide_type": "-"
    }
   },
   "source": [
    "<a id=\"section-1.1\"></a>\n",
    "### 1.1 Sinc Interpolator \n",
    "\n",
    "Ampcor defines its own sinc interpolator function, which is designed to be fast on a cpu by precomputing a very finely sampled function (oversampled by 4K or 8K), and accessing the appropriate coefficients for a particular interpolating fraction by simply selecting the nearest appropriate offset.  The sinc is obviously truncated, and an important feature of this function is the ability to taper the amplitude of the function for a smooth transition to zero at the edge.  This helps preserve phase independent of the fraction of the pixel selected. \n",
    "\n",
    "#### Filter definition\n",
    "\n",
    "The elements of the function are \n",
    "\n",
    "| Parameter | Symbol | Variable | Ampcor Value |\n",
    "| --- | --- | --- | --- |\n",
    "| Sinc Oversample Factor | $F_{\\rm sinc,os} $ | i_decfactor | 4096 |\n",
    "| Relative Filter Length | $L_{\\rm rel}$ | r_relfiltlen | 6. |\n",
    "| Filter Length Scale | $\\beta$ | r_beta | 0.75 |\n",
    "| Weight Flag | $w_{b\\rm bool}$ | i_weight | 1 |\n",
    "| Weight Edge Pedestal Height | $A_{\\rm sinc}$ | r_pedestal | 0. |\n",
    "| Number of sinc samples | $L_{\\rm sinc}$ | i_intplength | computed|\n",
    "| Number of oversampled sinc samples | $N_{\\rm sinc,os}$ | i_filtercoef | computed |\n",
    "\n",
    "From these input parameters, length $L_{\\rm sinc}$ of the interpolating function is calculated from \n",
    "\n",
    "\\begin{equation}\n",
    "L_{\\rm sinc} = [ L_{\\rm rel} /\\beta ]\n",
    "\\end{equation}\n",
    "\n",
    "where $[]$ denotes the nearest integer, rounding up for fractions $\\ge0.5$. Then the number of coefficients computed in the highly oversampled sinc function is \n",
    "\n",
    "\\begin{equation}\n",
    "N_{\\rm sinc,os} = L_{\\rm sinc} F_{\\rm sinc,os}\n",
    "\\end{equation}\n",
    "\n",
    "An array of coefficients is calculated over this number of samples to fit one finely sampled version of a sinc function, such that any fraction can be looked up in this function and retrieve $L_{\\rm sinc}$ coefficients, spaced by $F_{\\rm sinc,os}$ in the array for the appropriate fraction.  This array $f_{\\rm sinc,os}(s_m)$ is calculated over integers $m$ centered with 0 at the middle of the array.  Thus, we define a variable\n",
    "\n",
    "\\begin{equation}\n",
    "s_m = m - m_{\\rm off}  ,\\quad m=0\\cdots  N_{\\rm sinc,os}-1\n",
    "\\end{equation}\n",
    "\n",
    "where \n",
    "\n",
    "\\begin{equation}\n",
    "m_{\\rm off} = \\frac{N_{\\rm sinc,os}-1}{2}\n",
    "\\end{equation}\n",
    "is the offset to the center of the array.\n",
    "\n",
    "Since the sinc can have a symmetric raised cosine taper, tapering to $A_{\\rm sinc}$ at the edge, we define a weight function\n",
    "\n",
    "\\begin{equation}\n",
    "W(s_m) = (1-H_{\\rm sinc}) + H_{\\rm sinc} \\cos\\left(\\frac{\\pi s_m}{m_{\\rm off}}\\right)\n",
    "\\end{equation}\n",
    "\n",
    "where $H_{\\rm sinc} = (1-A_{\\rm sinc})/2$. When $A_{\\rm sinc}=0$, $H_{\\rm sinc}=0.5$, such that $W(s_0) = W(s_{N_{\\rm sinc,os}-1})= 0$,  and $W(s_{m_{\\rm off}}) = 1$.\n",
    "\n",
    "The oversampled sinc function is then:\n",
    "\n",
    "\\begin{equation}\n",
    "f_{\\rm sinc,os}(s_m) = W(s_m) \\frac{\\sin \\pi s_m}{\\pi s_m},\\quad m=0\\cdots  N_{\\rm sinc,os}-1\n",
    "\\end{equation}\n",
    "\n",
    "Since the array is 0 indexed, in its application, there is an intrinsic delay of half the interpolating kernel length $L_{\\rm sinc}/2$ that must be applied to have the interpolated output align with the input. \n",
    "\n",
    "In the *ampcor* implementation, the application of these coefficients $f_{\\rm sinc,os}(s_m)$ is done through an intermediary array that rearranges the terms into effectively a 2-dimensional array stored as 1-dimensional, with each \"row\" being the $L_{\\rm sinc}$ coefficitions for successive delays up to $F_{\\rm sinc,os}$.\n",
    "\n",
    "\\begin{equation}\n",
    "f_{\\rm lookup}(n + m F_{\\rm sinc,os}) = f_{\\rm sinc,os}(m + n F_{\\rm sinc,os}), \\quad m=0\\cdots F_{\\rm sinc,os}-1, n=0\\cdots  L_{\\rm sinc}-1\n",
    "\\end{equation}\n",
    "\n",
    "#### Filter application\n",
    "\n",
    "To apply this sinc interpolator, then, it is a simple matter to translate the fraction to an index into this array, then look up the appropriate $L_{\\rm sinc}$ sequential values.\n",
    "\n",
    "Let $s$ be the real valued coordinate lying somewhere between the integer indices $p$ of some function $g(p)$, $p=0,1,2,\\cdots$.  We define  the integer part of $s$ \n",
    "\n",
    "\\begin{equation}\n",
    "s_{\\rm int} = \\lfloor s + L_{\\rm sinc}/2 \\rfloor\n",
    "\\end{equation}\n",
    "\n",
    "and the fractional part as \n",
    "\n",
    "\n",
    "\\begin{equation}\n",
    "s_{\\rm frac} = s + L_{\\rm sinc}/2 - s_{\\rm int}\n",
    "\\end{equation}\n",
    "\n",
    "Then \n",
    "\n",
    "\\begin{equation}\n",
    "g(s) = W_{\\rm sinc} \\sum_{k=0}^{L_{\\rm sinc}-1}  g(s_{\\rm int}-k) f_{\\rm lookup}(k + s_{\\rm frac} F_{\\rm sinc,os} L_{\\rm sinc} )\n",
    "\\end{equation}\n",
    "\n",
    "where \n",
    "\n",
    "\\begin{equation}\n",
    "W_{\\rm sinc} = \\sum_{k=0}^{L_{\\rm sinc}-1}  f_{\\rm lookup}(k + s_{\\rm frac} F_{\\rm sinc,os} L_{\\rm sinc} )\n",
    "\\end{equation}\n",
    "\n",
    "and the $ L_{\\rm sinc}/2 $ offset above accounts for the shift of the interpolating kernel in the buffers indexed from 0.\n",
    "\n"
   ]
  },
  {
   "cell_type": "markdown",
   "metadata": {
    "hideCode": false,
    "hideOutput": false,
    "hidePrompt": true,
    "slideshow": {
     "slide_type": "-"
    }
   },
   "source": []
  },
  {
   "cell_type": "markdown",
   "metadata": {
    "hideCode": false,
    "hidePrompt": true,
    "slideshow": {
     "slide_type": "-"
    }
   },
   "source": [
    "<a id=\"section-1.2\"></a>\n",
    "### 1.2 Input Data Types"
   ]
  },
  {
   "cell_type": "markdown",
   "metadata": {
    "hideCode": false,
    "hideOutput": false,
    "hidePrompt": true,
    "slideshow": {
     "slide_type": "-"
    }
   },
   "source": [
    "*ampcor* cross-correlates two images: the reference image *refimg* and the search image *srchimg*. These images can be either real numbers or complex numbers.  \n",
    "\n",
    "Inputs can be specified as \n",
    "\n",
    "real - two dimensional array of floats\n",
    "\n",
    "complex - two dimensional array of complex numbers arranged as float (r,i) pairs\n",
    "\n",
    "mag - *ampcor* reads a complex image but immediately detects it.\n",
    "\n",
    "\n",
    "In the current implementation, all the correlations are done on detected (real-valued) images. In the first stage of correlation, the complex and mag specifications lead to the same outcome because the complex data are detected before correlation.\n",
    "\n",
    "However, there is a second stage of correlation that oversamples the original data by a factor of 2 before correlation.  In this case the complex and mag results will be different.\n",
    "\n",
    "In a proper implementation, real or complex correlation should be selectable, and the computation done accordingly.\n"
   ]
  },
  {
   "cell_type": "markdown",
   "metadata": {},
   "source": [
    "<a id=\"section-1.3\"></a>\n",
    "### 1.3 Bounds checking on input\n",
    "\n",
    "There is an extensive section of bounds and size checking of the input.  This prevents users from doing things that will likely lead to bad results.  Many of these are probably specific to this implementation.\n"
   ]
  },
  {
   "cell_type": "markdown",
   "metadata": {},
   "source": [
    "<a id=\"section-1.4\"></a>\n",
    "### 1.4 The *ampcor* Workflow\n",
    "\n",
    "*ampcor* performs the following steps.\n",
    "\n",
    "1. Read in a block of lines of image 1 and image 2.\n",
    "2. For the specified grid of locations to perform the correlation, detect images if complex and place detected data into buffers to correlate.  The refimg is smaller in dimensions than the srchimg, so that the srchimg can be slid around the refimg to calculate a correlation surface\n",
    "3. The correlation surface is computed, along with a number of metrics, like SNR, variance in two dimensions, curvature.  The peak location is detected and used to perform a second stage of interpolation.\n",
    "4. With the srchimg now centered at the estimated peak, the input data are oversampled by a factor of 2.  If the data are complex, the oversampling is done on the complex data, then detected again for correlation.  Oversampling is done by Fourier Transform.  The array is transformed, then the buffers are doubled in size and padded with zeros in the regions where the spectrum did not exist.  This needs to be done carefully because of rotations of zero frequency, depending on the kind of data it is.\n",
    "5. The correlation surface is re-computed, along with a number of metrics, like SNR, variance in two dimensions, curvature.  The peak location is detected and used to perform a second stage of interpolation.\n",
    "6. Then the new correlation surface is oversampled by typically a large number to allow a fine measure of the shape of the surface.  The procedure is similar to that for the complex data.\n",
    "7. The peak is estimated by searching for a peak and taking the nearest point."
   ]
  },
  {
   "cell_type": "code",
   "execution_count": 26,
   "metadata": {},
   "outputs": [
    {
     "name": "stdout",
     "output_type": "stream",
     "text": [
      "in\n",
      "[1 1 1 1 3 3 3 3]\n",
      "[1 1 1 1 3 3 3 3]\n",
      "[1 1 1 1 3 3 3 3]\n",
      "[1 1 1 1 3 3 3 3]\n",
      "[2 2 2 2 4 4 4 4]\n",
      "[2 2 2 2 4 4 4 4]\n",
      "[2 2 2 2 4 4 4 4]\n",
      "[2 2 2 2 4 4 4 4]\n",
      "\n",
      "out\n",
      "[1 1 1 1 0 0 0 0 0 0 0 0 3 3 3 3]\n",
      "[1 1 1 1 0 0 0 0 0 0 0 0 3 3 3 3]\n",
      "[1 1 1 1 0 0 0 0 0 0 0 0 3 3 3 3]\n",
      "[1 1 1 1 0 0 0 0 0 0 0 0 3 3 3 3]\n",
      "[0 0 0 0 0 0 0 0 0 0 0 0 0 0 0 0]\n",
      "[0 0 0 0 0 0 0 0 0 0 0 0 0 0 0 0]\n",
      "[0 0 0 0 0 0 0 0 0 0 0 0 0 0 0 0]\n",
      "[0 0 0 0 0 0 0 0 0 0 0 0 0 0 0 0]\n",
      "[0 0 0 0 0 0 0 0 0 0 0 0 0 0 0 0]\n",
      "[0 0 0 0 0 0 0 0 0 0 0 0 0 0 0 0]\n",
      "[0 0 0 0 0 0 0 0 0 0 0 0 0 0 0 0]\n",
      "[0 0 0 0 0 0 0 0 0 0 0 0 0 0 0 0]\n",
      "[2 2 2 2 0 0 0 0 0 0 0 0 4 4 4 4]\n",
      "[2 2 2 2 0 0 0 0 0 0 0 0 4 4 4 4]\n",
      "[2 2 2 2 0 0 0 0 0 0 0 0 4 4 4 4]\n",
      "[2 2 2 2 0 0 0 0 0 0 0 0 4 4 4 4]\n"
     ]
    }
   ],
   "source": [
    "import numpy as np \n",
    "i_n2wsyi=8\n",
    "i_n2wsxi=8\n",
    "i_ovs=2\n",
    "i_nn1=i_n2wsxi*i_ovs\n",
    "i_nn2=i_n2wsyi*i_ovs\n",
    "inarr = np.zeros(i_n2wsyi*i_n2wsxi,dtype=np.int)\n",
    "outarr = np.zeros(i_nn1*i_nn2,dtype=np.int)\n",
    "for k in range(1,i_n2wsyi//2+1):\n",
    "    for l in range(1,i_n2wsxi//2+1):\n",
    "        i_index = (k-1)*i_nn1 + l\n",
    "        i_indexi = (k-1)*i_n2wsxi + l\n",
    "        outarr[i_index-1] = 1\n",
    "        inarr[i_indexi-1] = 1\n",
    "        i_index = (i_nn2 - i_n2wsyi//2 + k - 1)*i_nn1 + l\n",
    "        i_indexi = (k + i_n2wsyi//2 - 1)*i_n2wsxi + l\n",
    "        outarr[i_index-1] = 2\n",
    "        inarr[i_indexi-1] = 2\n",
    "        i_index = (k-1)*i_nn1 + i_nn1 - i_n2wsxi//2 + l\n",
    "        i_indexi = (k-1)*i_n2wsxi + i_n2wsxi//2 + l\n",
    "        outarr[i_index-1] = 3\n",
    "        inarr[i_indexi-1] = 3\n",
    "        i_index = (i_nn2 - i_n2wsyi//2 + k - 1)*i_nn1 + i_nn1 - i_n2wsxi//2 + l\n",
    "        i_indexi = (k + i_n2wsyi//2 - 1)*i_n2wsxi + l + i_n2wsxi//2\n",
    "        outarr[i_index-1] = 4\n",
    "        inarr[i_indexi-1] = 4\n",
    "              \n",
    "print (\"in\")\n",
    "for k in range(0,i_n2wsyi):\n",
    "    print (inarr[k*i_n2wsyi:k*i_n2wsyi+i_n2wsxi])\n",
    "\n",
    "print (\"\\nout\")\n",
    "for k in range(0,i_nn2):\n",
    "    print (outarr[k*i_nn2:k*i_nn2+i_nn1])\n"
   ]
  },
  {
   "cell_type": "code",
   "execution_count": null,
   "metadata": {},
   "outputs": [],
   "source": []
  }
 ],
 "metadata": {
  "celltoolbar": "Slideshow",
  "hide_code_all_hidden": false,
  "kernelspec": {
   "display_name": "Python 3",
   "language": "python",
   "name": "python3"
  },
  "language_info": {
   "codemirror_mode": {
    "name": "ipython",
    "version": 3
   },
   "file_extension": ".py",
   "mimetype": "text/x-python",
   "name": "python",
   "nbconvert_exporter": "python",
   "pygments_lexer": "ipython3",
   "version": "3.8.3"
  }
 },
 "nbformat": 4,
 "nbformat_minor": 2
}
