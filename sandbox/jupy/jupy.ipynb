{
 "cells": [
  {
   "cell_type": "code",
   "execution_count": 1,
   "metadata": {},
   "outputs": [],
   "source": [
    "import ampcor\n",
    "from matplotlib import matplotlib as "
   ]
  },
  {
   "cell_type": "code",
   "execution_count": 2,
   "metadata": {},
   "outputs": [],
   "source": [
    "# make an execution environment\n",
    "app = ampcor.shells.ampcor(name='plexus')\n",
    "# configure its layout\n",
    "app.shell.hosts = 1\n",
    "app.shell.tasks = 1\n",
    "app.shell.gpus = 1"
   ]
  },
  {
   "cell_type": "code",
   "execution_count": 3,
   "metadata": {},
   "outputs": [],
   "source": [
    "# workspace management\n",
    "ws = ampcor.executive.fileserver\n",
    "# mount the data directory\n",
    "ws[\"BDL\"] = ampcor.filesystem.local(root=\"/data/BDL\").discover()\n",
    "# create the output directory\n",
    "# ws.mkdir(name=\"ampcor_output\",parent=\"BDL\")\n",
    "BDL=ws[\"BDL\"]\n",
    "outputdir=BDL.mkdir(name=\"ampcor_output\",exist_ok=True)\n",
    "# realize the output file\n",
    "offout=BDL.touch(name=\"ampcor_output/testoffsets.bin\")\n",
    "# show me the contents"
   ]
  },
  {
   "cell_type": "code",
   "execution_count": 4,
   "metadata": {},
   "outputs": [],
   "source": [
    "# data products\n",
    "# the reference SLC\n",
    "ref = ampcor.products.newSLC(name=\"slcref\")\n",
    "# its shape\n",
    "ref.shape = 3241,4321\n",
    "# the path to the data file\n",
    "ref.data = f\"/BDL/{ref.pyre_name}\"\n"
   ]
  },
  {
   "cell_type": "code",
   "execution_count": 7,
   "metadata": {},
   "outputs": [],
   "source": [
    "# the secondary SLC\n",
    "sec = ampcor.products.newSLC(name=\"slcsec\")\n",
    "# its shape\n",
    "sec.shape = 3241,4321\n",
    "# the path to the data file\n",
    "sec.data = f\"/BDL/{sec.pyre_name}\"\n",
    "\n"
   ]
  },
  {
   "cell_type": "code",
   "execution_count": 8,
   "metadata": {},
   "outputs": [],
   "source": [
    "# the output\n",
    "single = ampcor.products.newOffsets(name=\"single\")\n",
    "# the plan shape; determines how many correlation pairs will be computed\n",
    "single.shape = 1,1\n",
    "# the path to the output file\n",
    "single.data = offout.uri \n"
   ]
  },
  {
   "cell_type": "code",
   "execution_count": 9,
   "metadata": {},
   "outputs": [],
   "source": [
    "# the generator of points on the reference image\n",
    "# {uniformGrid} is the default, so this is not strictly speaking necessary\n",
    "# it doesn't have any user configurable state either\n",
    "uniform = ampcor.correlators.newUniformGrid(name=\"uni\")\n"
   ]
  },
  {
   "cell_type": "code",
   "execution_count": 10,
   "metadata": {},
   "outputs": [],
   "source": [
    "# the functor that maps points in the reference image onto the secondary image\n",
    "# used by the tile pair generator below to place tiles in the secondary image\n",
    "constant = ampcor.correlators.newConstant(name=\"zero\")\n",
    "# you can use this to apply a constant shift\n",
    "constant.shift = 0,0"
   ]
  },
  {
   "cell_type": "code",
   "execution_count": 13,
   "metadata": {},
   "outputs": [],
   "source": [
    "# these two together become the strategy for pairing up points in the reference image\n",
    "# to points in the secondary image to form tiles\n",
    "grid = ampcor.correlators.newGrid(name=\"griddy\")\n",
    "# the strategy for generating points in the reference image\n",
    "grid.domain = uniform\n",
    "# and mapping these onto points in the secondary image\n",
    "grid.functor = constant"
   ]
  },
  {
   "cell_type": "code",
   "execution_count": 14,
   "metadata": {},
   "outputs": [
    {
     "name": "stdout",
     "output_type": "stream",
     "text": [
      "estimator:\n",
      "  name: large\n",
      "  family: ampcor.correlators.mga\n",
      "  chip: (128, 128)\n",
      "  padding: (32, 32)\n",
      "  refinement factor: 4\n",
      "  refinement margin: 8\n",
      "  zoom factor: 8\n",
      "  initial cover generator:\n",
      "    name: griddy\n",
      "    family: ampcor.correlators.covers.grid\n",
      "    domain:\n",
      "      name: uni\n",
      "      family: ampcor.correlators.domains.uniform\n",
      "    functor: ampcor.correlators.functors.constant\n",
      "      name: zero\n",
      "      family: ampcor.correlators.functors.constant\n",
      "      shift: (0, 0)\n",
      "  plan:\n",
      "    shape: (1, 1), layout: (1, 0)\n",
      "    pairs: 1 out of 1\n",
      "    footprint:\n",
      "      reference: 16384 cells in 131072 bytes\n",
      "      secondary: 36864 cells in 294912 bytes\n",
      "    pair: (0, 0)\n",
      "      ref:\n",
      "        origin: (1556, 2096)\n",
      "        shape: (128, 128)\n",
      "      sec:\n",
      "        origin: (1524, 2064)\n",
      "        shape: (192, 192)\n"
     ]
    }
   ],
   "source": [
    "# the correlator\n",
    "mga = ampcor.correlators.newMGA(name=\"large\")\n",
    "# the inputs\n",
    "mga.reference = ref\n",
    "mga.secondary = sec\n",
    "# the output\n",
    "mga.offsets = single\n",
    "# the generator of pairs of points in the reference and secondary images\n",
    "mga.cover = grid\n",
    "# configuration\n",
    "# reference chip size\n",
    "mga.chip = 128, 128\n",
    "# padding used to form the search window in the secondary raster\n",
    "mga.padding = 32, 32\n",
    "# the refinement factor\n",
    "mga.refineFactor = 4\n",
    "# the refinement margin\n",
    "mga.refineMargin = 8\n",
    "# the zoom factor\n",
    "mga.zoomFactor = 8\n",
    "# show me\n",
    "print(\"\\n\".join(mga.show(indent=\" \"*2, margin=\"\")))"
   ]
  },
  {
   "cell_type": "code",
   "execution_count": 15,
   "metadata": {},
   "outputs": [
    {
     "data": {
      "text/plain": [
       "0"
      ]
     },
     "execution_count": 15,
     "metadata": {},
     "output_type": "execute_result"
    }
   ],
   "source": [
    "# invoke the correlator\n",
    "mga.estimate(plexus=app)"
   ]
  },
  {
   "cell_type": "code",
   "execution_count": null,
   "metadata": {},
   "outputs": [],
   "source": []
  }
 ],
 "metadata": {
  "kernelspec": {
   "display_name": "Python 3",
   "language": "python",
   "name": "python3"
  },
  "language_info": {
   "codemirror_mode": {
    "name": "ipython",
    "version": 3
   },
   "file_extension": ".py",
   "mimetype": "text/x-python",
   "name": "python",
   "nbconvert_exporter": "python",
   "pygments_lexer": "ipython3",
   "version": "3.8.5"
  }
 },
 "nbformat": 4,
 "nbformat_minor": 4
}
